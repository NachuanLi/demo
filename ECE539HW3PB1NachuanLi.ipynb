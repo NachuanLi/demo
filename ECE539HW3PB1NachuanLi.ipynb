{
  "nbformat": 4,
  "nbformat_minor": 0,
  "metadata": {
    "colab": {
      "name": "ECE539HW3PB1NachuanLi.ipynb",
      "provenance": [],
      "authorship_tag": "ABX9TyNhulPJjLNmUbVo/jhbhekK",
      "include_colab_link": true
    },
    "kernelspec": {
      "name": "python3",
      "display_name": "Python 3"
    }
  },
  "cells": [
    {
      "cell_type": "markdown",
      "metadata": {
        "id": "view-in-github",
        "colab_type": "text"
      },
      "source": [
        "<a href=\"https://colab.research.google.com/github/NachuanLi/demo/blob/master/ECE539HW3PB1NachuanLi.ipynb\" target=\"_parent\"><img src=\"https://colab.research.google.com/assets/colab-badge.svg\" alt=\"Open In Colab\"/></a>"
      ]
    },
    {
      "cell_type": "code",
      "metadata": {
        "id": "jrYHlJgB-l7s",
        "colab_type": "code",
        "colab": {}
      },
      "source": [
        "import numpy as np\n",
        "import pandas as pd\n",
        "import math"
      ],
      "execution_count": 86,
      "outputs": []
    },
    {
      "cell_type": "code",
      "metadata": {
        "id": "p3QK1xgiA1uq",
        "colab_type": "code",
        "colab": {
          "base_uri": "https://localhost:8080/",
          "height": 402
        },
        "outputId": "6f968bfd-98e9-4434-902e-06b4265f1b60"
      },
      "source": [
        "data1=pd.read_csv(\"iris.csv\", header=None)\n",
        "data=data1[[2,3,4]]\n",
        "data"
      ],
      "execution_count": 32,
      "outputs": [
        {
          "output_type": "execute_result",
          "data": {
            "text/html": [
              "<div>\n",
              "<style scoped>\n",
              "    .dataframe tbody tr th:only-of-type {\n",
              "        vertical-align: middle;\n",
              "    }\n",
              "\n",
              "    .dataframe tbody tr th {\n",
              "        vertical-align: top;\n",
              "    }\n",
              "\n",
              "    .dataframe thead th {\n",
              "        text-align: right;\n",
              "    }\n",
              "</style>\n",
              "<table border=\"1\" class=\"dataframe\">\n",
              "  <thead>\n",
              "    <tr style=\"text-align: right;\">\n",
              "      <th></th>\n",
              "      <th>2</th>\n",
              "      <th>3</th>\n",
              "      <th>4</th>\n",
              "    </tr>\n",
              "  </thead>\n",
              "  <tbody>\n",
              "    <tr>\n",
              "      <th>0</th>\n",
              "      <td>1.4</td>\n",
              "      <td>0.2</td>\n",
              "      <td>1</td>\n",
              "    </tr>\n",
              "    <tr>\n",
              "      <th>1</th>\n",
              "      <td>1.4</td>\n",
              "      <td>0.2</td>\n",
              "      <td>1</td>\n",
              "    </tr>\n",
              "    <tr>\n",
              "      <th>2</th>\n",
              "      <td>1.3</td>\n",
              "      <td>0.2</td>\n",
              "      <td>1</td>\n",
              "    </tr>\n",
              "    <tr>\n",
              "      <th>3</th>\n",
              "      <td>1.5</td>\n",
              "      <td>0.2</td>\n",
              "      <td>1</td>\n",
              "    </tr>\n",
              "    <tr>\n",
              "      <th>4</th>\n",
              "      <td>1.4</td>\n",
              "      <td>0.2</td>\n",
              "      <td>1</td>\n",
              "    </tr>\n",
              "    <tr>\n",
              "      <th>...</th>\n",
              "      <td>...</td>\n",
              "      <td>...</td>\n",
              "      <td>...</td>\n",
              "    </tr>\n",
              "    <tr>\n",
              "      <th>145</th>\n",
              "      <td>5.2</td>\n",
              "      <td>2.3</td>\n",
              "      <td>3</td>\n",
              "    </tr>\n",
              "    <tr>\n",
              "      <th>146</th>\n",
              "      <td>5.0</td>\n",
              "      <td>1.9</td>\n",
              "      <td>3</td>\n",
              "    </tr>\n",
              "    <tr>\n",
              "      <th>147</th>\n",
              "      <td>5.2</td>\n",
              "      <td>2.0</td>\n",
              "      <td>3</td>\n",
              "    </tr>\n",
              "    <tr>\n",
              "      <th>148</th>\n",
              "      <td>5.4</td>\n",
              "      <td>2.3</td>\n",
              "      <td>3</td>\n",
              "    </tr>\n",
              "    <tr>\n",
              "      <th>149</th>\n",
              "      <td>5.1</td>\n",
              "      <td>1.8</td>\n",
              "      <td>3</td>\n",
              "    </tr>\n",
              "  </tbody>\n",
              "</table>\n",
              "<p>150 rows × 3 columns</p>\n",
              "</div>"
            ],
            "text/plain": [
              "       2    3  4\n",
              "0    1.4  0.2  1\n",
              "1    1.4  0.2  1\n",
              "2    1.3  0.2  1\n",
              "3    1.5  0.2  1\n",
              "4    1.4  0.2  1\n",
              "..   ...  ... ..\n",
              "145  5.2  2.3  3\n",
              "146  5.0  1.9  3\n",
              "147  5.2  2.0  3\n",
              "148  5.4  2.3  3\n",
              "149  5.1  1.8  3\n",
              "\n",
              "[150 rows x 3 columns]"
            ]
          },
          "metadata": {
            "tags": []
          },
          "execution_count": 32
        }
      ]
    },
    {
      "cell_type": "code",
      "metadata": {
        "id": "FmEWcas9A_35",
        "colab_type": "code",
        "colab": {}
      },
      "source": [
        "train_data=data[0:151:2]\n",
        "test_data=data[1:150:2]\n",
        "\n",
        "#assign categories\n",
        "train1=train_data[train_data[4]==1]\n",
        "train2=train_data[train_data[4]==2]\n",
        "train3=train_data[train_data[4]==3]\n",
        "\n",
        "test1=test_data[test_data[4]==1]\n",
        "test2=test_data[test_data[4]==2]\n",
        "test3=test_data[test_data[4]==3]"
      ],
      "execution_count": 33,
      "outputs": []
    },
    {
      "cell_type": "code",
      "metadata": {
        "id": "zKX58V7BEuow",
        "colab_type": "code",
        "colab": {
          "base_uri": "https://localhost:8080/",
          "height": 50
        },
        "outputId": "f50b20ea-bcfd-432e-9a4c-508f8ea158b4"
      },
      "source": [
        "# mean class 1 trait 2\n",
        "mu12=train1[[2]].mean()\n",
        "mu12"
      ],
      "execution_count": 92,
      "outputs": [
        {
          "output_type": "execute_result",
          "data": {
            "text/plain": [
              "2    1.456\n",
              "dtype: float64"
            ]
          },
          "metadata": {
            "tags": []
          },
          "execution_count": 92
        }
      ]
    },
    {
      "cell_type": "code",
      "metadata": {
        "id": "V8wQ9nwFF9Ay",
        "colab_type": "code",
        "colab": {
          "base_uri": "https://localhost:8080/",
          "height": 50
        },
        "outputId": "2945f79e-e863-44d9-8f80-682a4134192e"
      },
      "source": [
        "# mean class 1 trait 3\n",
        "mu13=train1[[3]].mean()\n",
        "mu13"
      ],
      "execution_count": 93,
      "outputs": [
        {
          "output_type": "execute_result",
          "data": {
            "text/plain": [
              "3    0.224\n",
              "dtype: float64"
            ]
          },
          "metadata": {
            "tags": []
          },
          "execution_count": 93
        }
      ]
    },
    {
      "cell_type": "code",
      "metadata": {
        "id": "Jm-KBPqeIz9N",
        "colab_type": "code",
        "colab": {
          "base_uri": "https://localhost:8080/",
          "height": 50
        },
        "outputId": "a197e2bc-8201-415b-b7b7-7dcfa2e44037"
      },
      "source": [
        "#covariance of class 1 for trait 2 and 3\n",
        "lst12=np.transpose(train1[[2]].values)[0]\n",
        "lst13=np.transpose(train1[[3]].values)[0]\n",
        "cov1=np.cov(np.array([lst12,lst13]),bias=True)\n",
        "cov1"
      ],
      "execution_count": 81,
      "outputs": [
        {
          "output_type": "execute_result",
          "data": {
            "text/plain": [
              "array([[0.040864, 0.003456],\n",
              "       [0.003456, 0.006624]])"
            ]
          },
          "metadata": {
            "tags": []
          },
          "execution_count": 81
        }
      ]
    },
    {
      "cell_type": "code",
      "metadata": {
        "id": "oM--lz39GB0P",
        "colab_type": "code",
        "colab": {
          "base_uri": "https://localhost:8080/",
          "height": 50
        },
        "outputId": "0886ee75-8f58-44d8-d986-c4c45f7c6d77"
      },
      "source": [
        "# mean class 2 trait 2\n",
        "mu22=train2[[2]].mean()\n",
        "mu22"
      ],
      "execution_count": 90,
      "outputs": [
        {
          "output_type": "execute_result",
          "data": {
            "text/plain": [
              "2    4.308\n",
              "dtype: float64"
            ]
          },
          "metadata": {
            "tags": []
          },
          "execution_count": 90
        }
      ]
    },
    {
      "cell_type": "code",
      "metadata": {
        "id": "EmhZfwJeGB3o",
        "colab_type": "code",
        "colab": {
          "base_uri": "https://localhost:8080/",
          "height": 50
        },
        "outputId": "89896cb1-3956-443b-e53b-1896d3821382"
      },
      "source": [
        "# mean class 3 trait 3\n",
        "mu23=train2[[3]].mean()\n",
        "mu23"
      ],
      "execution_count": 91,
      "outputs": [
        {
          "output_type": "execute_result",
          "data": {
            "text/plain": [
              "3    1.352\n",
              "dtype: float64"
            ]
          },
          "metadata": {
            "tags": []
          },
          "execution_count": 91
        }
      ]
    },
    {
      "cell_type": "code",
      "metadata": {
        "id": "6PfwZ5J4GjZK",
        "colab_type": "code",
        "colab": {
          "base_uri": "https://localhost:8080/",
          "height": 50
        },
        "outputId": "a8e8cbf3-47e1-46e7-ab2e-836b1e67a4ec"
      },
      "source": [
        "#covariance of class 2 for trait 2 and 3\n",
        "lst22=np.transpose(train2[[2]].values)[0]\n",
        "lst23=np.transpose(train2[[3]].values)[0]\n",
        "cov2=np.cov(np.array([lst22,lst23]),bias=True)\n",
        "cov2"
      ],
      "execution_count": 80,
      "outputs": [
        {
          "output_type": "execute_result",
          "data": {
            "text/plain": [
              "array([[0.220736, 0.069584],\n",
              "       [0.069584, 0.036096]])"
            ]
          },
          "metadata": {
            "tags": []
          },
          "execution_count": 80
        }
      ]
    },
    {
      "cell_type": "code",
      "metadata": {
        "id": "eXNH1WNeGCFa",
        "colab_type": "code",
        "colab": {
          "base_uri": "https://localhost:8080/",
          "height": 50
        },
        "outputId": "ef415f11-dbd1-435e-ee3e-57a2b8b127d3"
      },
      "source": [
        "# mean class 3 trait 2\n",
        "mu32=train3[[2]].mean()\n",
        "mu32"
      ],
      "execution_count": 94,
      "outputs": [
        {
          "output_type": "execute_result",
          "data": {
            "text/plain": [
              "2    5.564\n",
              "dtype: float64"
            ]
          },
          "metadata": {
            "tags": []
          },
          "execution_count": 94
        }
      ]
    },
    {
      "cell_type": "code",
      "metadata": {
        "id": "QGeBbxYXGCI0",
        "colab_type": "code",
        "colab": {
          "base_uri": "https://localhost:8080/",
          "height": 50
        },
        "outputId": "1affa801-f6e8-4a71-b831-33b7424ba6aa"
      },
      "source": [
        "# mean class 3 trait 3\n",
        "mu33=train3[[3]].mean()\n",
        "mu33"
      ],
      "execution_count": 102,
      "outputs": [
        {
          "output_type": "execute_result",
          "data": {
            "text/plain": [
              "3    2.076\n",
              "dtype: float64"
            ]
          },
          "metadata": {
            "tags": []
          },
          "execution_count": 102
        }
      ]
    },
    {
      "cell_type": "code",
      "metadata": {
        "id": "96ifPH0YGRl7",
        "colab_type": "code",
        "colab": {
          "base_uri": "https://localhost:8080/",
          "height": 50
        },
        "outputId": "82646f47-76c9-4290-9d71-889673b606d4"
      },
      "source": [
        "#covariance of class 3 for trait 2 and 3\n",
        "lst32=np.transpose(train3[[2]].values)[0]\n",
        "lst33=np.transpose(train3[[3]].values)[0]\n",
        "cov3=np.cov(np.array([lst32,lst33]),bias=True)\n",
        "cov3"
      ],
      "execution_count": 79,
      "outputs": [
        {
          "output_type": "execute_result",
          "data": {
            "text/plain": [
              "array([[0.285504, 0.049536],\n",
              "       [0.049536, 0.074624]])"
            ]
          },
          "metadata": {
            "tags": []
          },
          "execution_count": 79
        }
      ]
    },
    {
      "cell_type": "code",
      "metadata": {
        "id": "fd5QgP36JRQz",
        "colab_type": "code",
        "colab": {
          "base_uri": "https://localhost:8080/",
          "height": 34
        },
        "outputId": "74f32783-b817-49a4-c04a-b5fce7fee50f"
      },
      "source": [
        "# partb\n",
        "# daterminat of cov matrix of class 1\n",
        "det1=np.linalg.det(cov1)\n",
        "det1"
      ],
      "execution_count": 89,
      "outputs": [
        {
          "output_type": "execute_result",
          "data": {
            "text/plain": [
              "0.0002587391999999999"
            ]
          },
          "metadata": {
            "tags": []
          },
          "execution_count": 89
        }
      ]
    },
    {
      "cell_type": "code",
      "metadata": {
        "id": "GliJl-f8J0a3",
        "colab_type": "code",
        "colab": {
          "base_uri": "https://localhost:8080/",
          "height": 34
        },
        "outputId": "7e87d412-c5a2-4020-dd57-dfa65e937d96"
      },
      "source": [
        "# daterminat of cov matrix of class 2\n",
        "det2=np.linalg.det(cov2)\n",
        "det2"
      ],
      "execution_count": 88,
      "outputs": [
        {
          "output_type": "execute_result",
          "data": {
            "text/plain": [
              "0.0031257536000000035"
            ]
          },
          "metadata": {
            "tags": []
          },
          "execution_count": 88
        }
      ]
    },
    {
      "cell_type": "code",
      "metadata": {
        "id": "bz6OM67-J23l",
        "colab_type": "code",
        "colab": {
          "base_uri": "https://localhost:8080/",
          "height": 34
        },
        "outputId": "b9838e8a-9fd8-482b-ddbf-b037975bd13a"
      },
      "source": [
        "# daterminat of cov matrix of class 3\n",
        "det3=np.linalg.det(cov3)\n",
        "det3"
      ],
      "execution_count": 87,
      "outputs": [
        {
          "output_type": "execute_result",
          "data": {
            "text/plain": [
              "0.01885163520000001"
            ]
          },
          "metadata": {
            "tags": []
          },
          "execution_count": 87
        }
      ]
    },
    {
      "cell_type": "code",
      "metadata": {
        "id": "iLjALb2JKstf",
        "colab_type": "code",
        "colab": {}
      },
      "source": [
        "# part c\n",
        "x=[[4.4],[1.4]]\n",
        "det={1:det1, 2:det2, 3:det3}\n",
        "cov={1:cov1, 2:cov2, 3:cov3}\n",
        "mu={1:{2:(mu12.values)[0], 3:(mu13.values)[0]}, 2: {2:(mu22.values)[0], 3:(mu23.values)[0]}, 3:{2:(mu32.values)[0], 3:(mu33.values)[0]}}\n",
        "\n",
        "def Lk(k=None, x=None):\n",
        "  #print(x)\n",
        "  #print([[mu[k][2]],[mu[k][3]]])\n",
        "  x_uk=np.subtract(x,[[mu[k][2]],[mu[k][3]]])\n",
        "  x_uk_t=np.transpose(x_uk)\n",
        "  covk_1=np.linalg.inv(cov[k])\n",
        "  a=np.matmul(x_uk_t, covk_1)\n",
        "  b=np.matmul(a, x_uk)\n",
        "  return (1/2/math.pi/det[k])*math.exp(-0.5*b[0])\n",
        "\n",
        "def lk(k=None, x=None):\n",
        "  return np.log(Lk(k=k, x=x))\n"
      ],
      "execution_count": 108,
      "outputs": []
    },
    {
      "cell_type": "code",
      "metadata": {
        "id": "ZiyaggfsPthH",
        "colab_type": "code",
        "colab": {
          "base_uri": "https://localhost:8080/",
          "height": 34
        },
        "outputId": "4d241eb4-6b4b-48e9-b857-4d2fe5a4b3a7"
      },
      "source": [
        "# L1\n",
        "Lk(k=1, x=x)"
      ],
      "execution_count": 107,
      "outputs": [
        {
          "output_type": "execute_result",
          "data": {
            "text/plain": [
              "1.8229614381411095e-73"
            ]
          },
          "metadata": {
            "tags": []
          },
          "execution_count": 107
        }
      ]
    },
    {
      "cell_type": "code",
      "metadata": {
        "id": "QkO4j23aQPJ1",
        "colab_type": "code",
        "colab": {
          "base_uri": "https://localhost:8080/",
          "height": 34
        },
        "outputId": "3a2e592a-98f2-4dc7-d06b-e6fc598b3748"
      },
      "source": [
        "# l1\n",
        "lk(k=1, x=x)"
      ],
      "execution_count": 109,
      "outputs": [
        {
          "output_type": "execute_result",
          "data": {
            "text/plain": [
              "-167.48824944605957"
            ]
          },
          "metadata": {
            "tags": []
          },
          "execution_count": 109
        }
      ]
    },
    {
      "cell_type": "code",
      "metadata": {
        "id": "Xvlmf15AQTlz",
        "colab_type": "code",
        "colab": {
          "base_uri": "https://localhost:8080/",
          "height": 34
        },
        "outputId": "97753f87-3dbe-4d22-b97a-74dbd1d11691"
      },
      "source": [
        "# L2\n",
        "Lk(k=2, x=x)"
      ],
      "execution_count": 110,
      "outputs": [
        {
          "output_type": "execute_result",
          "data": {
            "text/plain": [
              "49.31785960259407"
            ]
          },
          "metadata": {
            "tags": []
          },
          "execution_count": 110
        }
      ]
    },
    {
      "cell_type": "code",
      "metadata": {
        "id": "ZsDQZlRYQeaf",
        "colab_type": "code",
        "colab": {
          "base_uri": "https://localhost:8080/",
          "height": 34
        },
        "outputId": "c6933229-fb08-42e0-b897-88155df3f788"
      },
      "source": [
        "# l2\n",
        "lk(k=2, x=x)"
      ],
      "execution_count": 111,
      "outputs": [
        {
          "output_type": "execute_result",
          "data": {
            "text/plain": [
              "3.8982862791912787"
            ]
          },
          "metadata": {
            "tags": []
          },
          "execution_count": 111
        }
      ]
    },
    {
      "cell_type": "code",
      "metadata": {
        "id": "A0R8N628Qiwf",
        "colab_type": "code",
        "colab": {
          "base_uri": "https://localhost:8080/",
          "height": 34
        },
        "outputId": "de44d183-4815-454c-f203-b38d93f1a767"
      },
      "source": [
        "# L3\n",
        "Lk(k=3, x=x)"
      ],
      "execution_count": 112,
      "outputs": [
        {
          "output_type": "execute_result",
          "data": {
            "text/plain": [
              "0.14353587937046494"
            ]
          },
          "metadata": {
            "tags": []
          },
          "execution_count": 112
        }
      ]
    },
    {
      "cell_type": "code",
      "metadata": {
        "id": "5dMf299hQpzu",
        "colab_type": "code",
        "colab": {
          "base_uri": "https://localhost:8080/",
          "height": 34
        },
        "outputId": "52443f12-1926-4b00-de59-d9e821635413"
      },
      "source": [
        "# l3\n",
        "lk(k=3, x=x)"
      ],
      "execution_count": 113,
      "outputs": [
        {
          "output_type": "execute_result",
          "data": {
            "text/plain": [
              "-1.9411702445786647"
            ]
          },
          "metadata": {
            "tags": []
          },
          "execution_count": 113
        }
      ]
    },
    {
      "cell_type": "code",
      "metadata": {
        "id": "McFwTDeXUq_X",
        "colab_type": "code",
        "colab": {
          "base_uri": "https://localhost:8080/",
          "height": 34
        },
        "outputId": "4a904fcb-4ee4-4e7b-b003-4a0e04447ce3"
      },
      "source": [
        "def classify(test=None):\n",
        "  classify={1:0, 2:0, 3:0}\n",
        "  for row in test[[2,3]].iterrows():\n",
        "    e=[lk(k=1, x=[[row[1].values[0]], [row[1].values[1]]]), lk(k=2, x=[[row[1].values[0]], [row[1].values[1]]]), lk(k=3, x=[[row[1].values[0]], [row[1].values[1]]])] \n",
        "    #print(e)\n",
        "    classify[np.argmax(e)+1]+=1\n",
        "  return classify\n",
        "\n",
        "classify(test=test3)\n"
      ],
      "execution_count": 189,
      "outputs": [
        {
          "output_type": "execute_result",
          "data": {
            "text/plain": [
              "{1: 0, 2: 2, 3: 23}"
            ]
          },
          "metadata": {
            "tags": []
          },
          "execution_count": 189
        }
      ]
    },
    {
      "cell_type": "code",
      "metadata": {
        "id": "LXWnvlw4bSJq",
        "colab_type": "code",
        "colab": {
          "base_uri": "https://localhost:8080/",
          "height": 34
        },
        "outputId": "093745f0-695b-4c2d-9174-a64f5071b87f"
      },
      "source": [
        "# classification of test class1\n",
        "classify(test=test1)"
      ],
      "execution_count": 190,
      "outputs": [
        {
          "output_type": "execute_result",
          "data": {
            "text/plain": [
              "{1: 25, 2: 0, 3: 0}"
            ]
          },
          "metadata": {
            "tags": []
          },
          "execution_count": 190
        }
      ]
    },
    {
      "cell_type": "code",
      "metadata": {
        "id": "XGSlcPTqbc6v",
        "colab_type": "code",
        "colab": {
          "base_uri": "https://localhost:8080/",
          "height": 34
        },
        "outputId": "04413a6e-c267-4cc7-c384-0070ad41fc4f"
      },
      "source": [
        "# classification of test class1\n",
        "classify(test=test2)"
      ],
      "execution_count": 191,
      "outputs": [
        {
          "output_type": "execute_result",
          "data": {
            "text/plain": [
              "{1: 0, 2: 25, 3: 0}"
            ]
          },
          "metadata": {
            "tags": []
          },
          "execution_count": 191
        }
      ]
    },
    {
      "cell_type": "code",
      "metadata": {
        "id": "78nwaut5bhcr",
        "colab_type": "code",
        "colab": {
          "base_uri": "https://localhost:8080/",
          "height": 34
        },
        "outputId": "6f2a3a5d-49be-4a10-c7db-43ffad981fa6"
      },
      "source": [
        "classify(test=test3)"
      ],
      "execution_count": 192,
      "outputs": [
        {
          "output_type": "execute_result",
          "data": {
            "text/plain": [
              "{1: 0, 2: 2, 3: 23}"
            ]
          },
          "metadata": {
            "tags": []
          },
          "execution_count": 192
        }
      ]
    }
  ]
}