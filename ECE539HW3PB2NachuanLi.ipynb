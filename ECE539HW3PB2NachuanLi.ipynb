{
  "nbformat": 4,
  "nbformat_minor": 0,
  "metadata": {
    "colab": {
      "name": "ECE539HW3PB2NachuanLi.ipynb",
      "provenance": [],
      "collapsed_sections": [],
      "authorship_tag": "ABX9TyPEkU1zcHraeSG9n1LcIZ8s",
      "include_colab_link": true
    },
    "kernelspec": {
      "name": "python3",
      "display_name": "Python 3"
    }
  },
  "cells": [
    {
      "cell_type": "markdown",
      "metadata": {
        "id": "view-in-github",
        "colab_type": "text"
      },
      "source": [
        "<a href=\"https://colab.research.google.com/github/NachuanLi/demo/blob/master/ECE539HW3PB2NachuanLi.ipynb\" target=\"_parent\"><img src=\"https://colab.research.google.com/assets/colab-badge.svg\" alt=\"Open In Colab\"/></a>"
      ]
    },
    {
      "cell_type": "code",
      "metadata": {
        "id": "3FXNl6uT4GBC",
        "colab_type": "code",
        "colab": {}
      },
      "source": [
        "import numpy as np"
      ],
      "execution_count": 3,
      "outputs": []
    },
    {
      "cell_type": "code",
      "metadata": {
        "id": "HIojisG_4sRo",
        "colab_type": "code",
        "colab": {}
      },
      "source": [
        "y=np.array([[1.8],[3.9],[5.2],[6.5]])\n",
        "x=np.array([[1,1],[2,1],[3,1],[4,1]])"
      ],
      "execution_count": 4,
      "outputs": []
    },
    {
      "cell_type": "code",
      "metadata": {
        "id": "3i4vYdp547UO",
        "colab_type": "code",
        "colab": {
          "base_uri": "https://localhost:8080/",
          "height": 134
        },
        "outputId": "bd3b6fab-74f0-4ca2-917d-67013ec4f422"
      },
      "source": [
        "DC=np.linalg.svd(x)\n",
        "DC"
      ],
      "execution_count": 5,
      "outputs": [
        {
          "output_type": "execute_result",
          "data": {
            "text/plain": [
              "(array([[-0.21952944, -0.80734554, -0.40008743, -0.37407225],\n",
              "        [-0.38334247, -0.3912142 ,  0.25463292,  0.79697056],\n",
              "        [-0.5471555 ,  0.02491713,  0.69099646, -0.47172438],\n",
              "        [-0.71096853,  0.44104847, -0.54554195,  0.04882607]]),\n",
              " array([5.77937881, 0.77380911]),\n",
              " array([[-0.94673755, -0.32200622],\n",
              "        [ 0.32200622, -0.94673755]]))"
            ]
          },
          "metadata": {
            "tags": []
          },
          "execution_count": 5
        }
      ]
    },
    {
      "cell_type": "code",
      "metadata": {
        "id": "H4yCOqR16Nn4",
        "colab_type": "code",
        "colab": {
          "base_uri": "https://localhost:8080/",
          "height": 50
        },
        "outputId": "c13d6000-4604-4c24-c549-e7563ed9e7e0"
      },
      "source": [
        "xt=np.transpose(x)\n",
        "xtx = np.matmul(xt,x) \n",
        "xtx"
      ],
      "execution_count": 6,
      "outputs": [
        {
          "output_type": "execute_result",
          "data": {
            "text/plain": [
              "array([[30, 10],\n",
              "       [10,  4]])"
            ]
          },
          "metadata": {
            "tags": []
          },
          "execution_count": 6
        }
      ]
    },
    {
      "cell_type": "code",
      "metadata": {
        "id": "g53rHQX07F7n",
        "colab_type": "code",
        "colab": {
          "base_uri": "https://localhost:8080/",
          "height": 50
        },
        "outputId": "3530b0df-9b2e-4527-ba5b-b2b0f0bd5f5d"
      },
      "source": [
        "xtx_inv=np.linalg.inv(xtx)\n",
        "xtx_inv"
      ],
      "execution_count": 7,
      "outputs": [
        {
          "output_type": "execute_result",
          "data": {
            "text/plain": [
              "array([[ 0.2, -0.5],\n",
              "       [-0.5,  1.5]])"
            ]
          },
          "metadata": {
            "tags": []
          },
          "execution_count": 7
        }
      ]
    },
    {
      "cell_type": "code",
      "metadata": {
        "id": "7Q1P-3g77Qqd",
        "colab_type": "code",
        "colab": {
          "base_uri": "https://localhost:8080/",
          "height": 50
        },
        "outputId": "ae4b6cd5-c330-40fe-f8d0-993294818e1e"
      },
      "source": [
        "#parta\n",
        "#compute the pseudo inverse of X\n",
        "x_psu=np.matmul(xtx_inv,xt)\n",
        "x_psu"
      ],
      "execution_count": 8,
      "outputs": [
        {
          "output_type": "execute_result",
          "data": {
            "text/plain": [
              "array([[-0.3, -0.1,  0.1,  0.3],\n",
              "       [ 1. ,  0.5,  0. , -0.5]])"
            ]
          },
          "metadata": {
            "tags": []
          },
          "execution_count": 8
        }
      ]
    },
    {
      "cell_type": "code",
      "metadata": {
        "id": "zJ2nPNNB7dnG",
        "colab_type": "code",
        "colab": {}
      },
      "source": [
        "A=np.matmul(x_psu, x)\n",
        "B=np.matmul(x, x_psu)"
      ],
      "execution_count": 9,
      "outputs": []
    },
    {
      "cell_type": "code",
      "metadata": {
        "id": "-Bu1DH1g7rpj",
        "colab_type": "code",
        "colab": {
          "base_uri": "https://localhost:8080/",
          "height": 50
        },
        "outputId": "4d1d7b80-b46a-49f1-8ba3-6fa18515d5bf"
      },
      "source": [
        "# part b --A\n",
        "A"
      ],
      "execution_count": 11,
      "outputs": [
        {
          "output_type": "execute_result",
          "data": {
            "text/plain": [
              "array([[1.00000000e+00, 1.66533454e-16],\n",
              "       [0.00000000e+00, 1.00000000e+00]])"
            ]
          },
          "metadata": {
            "tags": []
          },
          "execution_count": 11
        }
      ]
    },
    {
      "cell_type": "code",
      "metadata": {
        "id": "lt-2O_n87s2h",
        "colab_type": "code",
        "colab": {
          "base_uri": "https://localhost:8080/",
          "height": 84
        },
        "outputId": "232c315c-2e65-4e03-c63f-990ece1bc06e"
      },
      "source": [
        "# part b --B\n",
        "B"
      ],
      "execution_count": 12,
      "outputs": [
        {
          "output_type": "execute_result",
          "data": {
            "text/plain": [
              "array([[ 0.7,  0.4,  0.1, -0.2],\n",
              "       [ 0.4,  0.3,  0.2,  0.1],\n",
              "       [ 0.1,  0.2,  0.3,  0.4],\n",
              "       [-0.2,  0.1,  0.4,  0.7]])"
            ]
          },
          "metadata": {
            "tags": []
          },
          "execution_count": 12
        }
      ]
    },
    {
      "cell_type": "code",
      "metadata": {
        "id": "suDEFkJK8BjM",
        "colab_type": "code",
        "colab": {
          "base_uri": "https://localhost:8080/",
          "height": 50
        },
        "outputId": "1a748f7a-f3c8-4052-c6fa-1755b1b3d1c5"
      },
      "source": [
        "# part c\n",
        "w=np.matmul(x_psu,y )\n",
        "w"
      ],
      "execution_count": 15,
      "outputs": [
        {
          "output_type": "execute_result",
          "data": {
            "text/plain": [
              "array([[1.54],\n",
              "       [0.5 ]])"
            ]
          },
          "metadata": {
            "tags": []
          },
          "execution_count": 15
        }
      ]
    },
    {
      "cell_type": "code",
      "metadata": {
        "id": "Lzyl1Vze7t47",
        "colab_type": "code",
        "colab": {
          "base_uri": "https://localhost:8080/",
          "height": 34
        },
        "outputId": "a6183e9c-c097-4a22-af40-256bd143eb9a"
      },
      "source": [
        "#w*1\n",
        "w[0][0]"
      ],
      "execution_count": 18,
      "outputs": [
        {
          "output_type": "execute_result",
          "data": {
            "text/plain": [
              "1.54"
            ]
          },
          "metadata": {
            "tags": []
          },
          "execution_count": 18
        }
      ]
    },
    {
      "cell_type": "code",
      "metadata": {
        "id": "WbUxxB_d7EK9",
        "colab_type": "code",
        "colab": {
          "base_uri": "https://localhost:8080/",
          "height": 34
        },
        "outputId": "db420446-b4f7-4c11-e70b-71039a9375d8"
      },
      "source": [
        "#w*0\n",
        "w[1][0]"
      ],
      "execution_count": 19,
      "outputs": [
        {
          "output_type": "execute_result",
          "data": {
            "text/plain": [
              "0.49999999999999956"
            ]
          },
          "metadata": {
            "tags": []
          },
          "execution_count": 19
        }
      ]
    },
    {
      "cell_type": "code",
      "metadata": {
        "id": "IJguJe4I7GC0",
        "colab_type": "code",
        "colab": {
          "base_uri": "https://localhost:8080/",
          "height": 34
        },
        "outputId": "3778f802-1aa9-4eb3-dcd1-7386f7d243a2"
      },
      "source": [
        "# f value\n",
        "e=np.matmul(x, w)-y\n",
        "f=np.matmul(np.transpose(e),e)\n",
        "f[0][0]\n"
      ],
      "execution_count": 24,
      "outputs": [
        {
          "output_type": "execute_result",
          "data": {
            "text/plain": [
              "0.19200000000000017"
            ]
          },
          "metadata": {
            "tags": []
          },
          "execution_count": 24
        }
      ]
    }
  ]
}