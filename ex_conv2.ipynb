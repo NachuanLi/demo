{
  "nbformat": 4,
  "nbformat_minor": 0,
  "metadata": {
    "colab": {
      "name": "ex_conv2.ipynb",
      "provenance": []
    },
    "kernelspec": {
      "name": "python3",
      "display_name": "Python 3"
    },
    "widgets": {
      "application/vnd.jupyter.widget-state+json": {
        "16fa97ceb24940d0bf8597c2650be5d1": {
          "model_module": "@jupyter-widgets/controls",
          "model_name": "ToggleButtonModel",
          "state": {
            "_view_name": "ToggleButtonView",
            "style": "IPY_MODEL_fdc27f8bbbe2409590b9aa2ec0439fa8",
            "_dom_classes": [],
            "description": "Randomize Data",
            "_model_name": "ToggleButtonModel",
            "button_style": "",
            "_view_module": "@jupyter-widgets/controls",
            "_model_module_version": "1.5.0",
            "tooltip": "Description",
            "_view_count": null,
            "disabled": false,
            "_view_module_version": "1.5.0",
            "value": true,
            "description_tooltip": null,
            "_model_module": "@jupyter-widgets/controls",
            "layout": "IPY_MODEL_99e4e7ee673945a7aff3b251fe3e777a",
            "icon": "check"
          }
        },
        "fdc27f8bbbe2409590b9aa2ec0439fa8": {
          "model_module": "@jupyter-widgets/controls",
          "model_name": "DescriptionStyleModel",
          "state": {
            "_view_name": "StyleView",
            "_model_name": "DescriptionStyleModel",
            "description_width": "",
            "_view_module": "@jupyter-widgets/base",
            "_model_module_version": "1.5.0",
            "_view_count": null,
            "_view_module_version": "1.2.0",
            "_model_module": "@jupyter-widgets/controls"
          }
        },
        "99e4e7ee673945a7aff3b251fe3e777a": {
          "model_module": "@jupyter-widgets/base",
          "model_name": "LayoutModel",
          "state": {
            "_view_name": "LayoutView",
            "grid_template_rows": null,
            "right": null,
            "justify_content": null,
            "_view_module": "@jupyter-widgets/base",
            "overflow": null,
            "_model_module_version": "1.2.0",
            "_view_count": null,
            "flex_flow": null,
            "width": null,
            "min_width": null,
            "border": null,
            "align_items": null,
            "bottom": null,
            "_model_module": "@jupyter-widgets/base",
            "top": null,
            "grid_column": null,
            "overflow_y": null,
            "overflow_x": null,
            "grid_auto_flow": null,
            "grid_area": null,
            "grid_template_columns": null,
            "flex": null,
            "_model_name": "LayoutModel",
            "justify_items": null,
            "grid_row": null,
            "max_height": null,
            "align_content": null,
            "visibility": null,
            "align_self": null,
            "height": null,
            "min_height": null,
            "padding": null,
            "grid_auto_rows": null,
            "grid_gap": null,
            "max_width": null,
            "order": null,
            "_view_module_version": "1.2.0",
            "grid_template_areas": null,
            "object_position": null,
            "object_fit": null,
            "grid_auto_columns": null,
            "margin": null,
            "display": null,
            "left": null
          }
        }
      }
    }
  },
  "cells": [
    {
      "cell_type": "markdown",
      "metadata": {
        "id": "ArlsQOmHQRi3",
        "colab_type": "text"
      },
      "source": [
        "If using google colab, you need to upload the .mat file before you can use it. This cell won't need to run if you are running jupyter locally. You only need to run it if the ex_conv2data.mat file isn't located where jupyter can find it. "
      ]
    },
    {
      "cell_type": "code",
      "metadata": {
        "id": "KDHfZq0yQC3y",
        "colab_type": "code",
        "colab": {}
      },
      "source": [
        "from google.colab import files\n",
        "\n",
        "uploaded = files.upload()"
      ],
      "execution_count": null,
      "outputs": []
    },
    {
      "cell_type": "markdown",
      "metadata": {
        "id": "IFdBsaHpQrSc",
        "colab_type": "text"
      },
      "source": [
        "This sell sets up a flag called newdata. When the button is checked, Newdata will return true and we will randomly generate new data. When the button is not checked, we will instead use the .mat file. "
      ]
    },
    {
      "cell_type": "code",
      "metadata": {
        "id": "8BYc7Bu-SfSR",
        "colab_type": "code",
        "colab": {
          "base_uri": "https://localhost:8080/",
          "height": 49,
          "referenced_widgets": [
            "16fa97ceb24940d0bf8597c2650be5d1",
            "fdc27f8bbbe2409590b9aa2ec0439fa8",
            "99e4e7ee673945a7aff3b251fe3e777a"
          ]
        },
        "outputId": "b11d03b8-055a-4150-f25e-0a032286ac02"
      },
      "source": [
        "import ipywidgets as widgets\n",
        "\n",
        "# Widget allows us to toggle the randomized data flag on and off. \n",
        "newdata = widgets.ToggleButton(\n",
        "    value=False,\n",
        "    description='Randomize Data',\n",
        "    disabled=False,\n",
        "    button_style='', # 'success', 'info', 'warning', 'danger' or ''\n",
        "    tooltip='Description',\n",
        "    icon='check' # (FontAwesome names without the `fa-` prefix)\n",
        ")\n",
        "newdata\n"
      ],
      "execution_count": 9,
      "outputs": [
        {
          "output_type": "display_data",
          "data": {
            "application/vnd.jupyter.widget-view+json": {
              "model_id": "16fa97ceb24940d0bf8597c2650be5d1",
              "version_minor": 0,
              "version_major": 2
            },
            "text/plain": [
              "ToggleButton(value=False, description='Randomize Data', icon='check', tooltip='Description')"
            ]
          },
          "metadata": {
            "tags": []
          }
        }
      ]
    },
    {
      "cell_type": "markdown",
      "metadata": {
        "id": "KG1ER3GcQ6Bv",
        "colab_type": "text"
      },
      "source": [
        ""
      ]
    },
    {
      "cell_type": "code",
      "metadata": {
        "id": "i4_6GTUyUCIM",
        "colab_type": "code",
        "colab": {
          "base_uri": "https://localhost:8080/",
          "height": 274
        },
        "outputId": "be8a9abf-5432-409c-81bd-ed475fcc0d91"
      },
      "source": [
        "import numpy as np\n",
        "from scipy.signal import convolve2d\n",
        "from scipy.io import loadmat\n",
        "from google.colab import files\n",
        "\n",
        "\n",
        "F = 3                 # The size of our filter\n",
        "P = int((F - 1)/2)    # Padding Length\n",
        "\n",
        "if newdata.value:\n",
        "  H = 4\n",
        "  W = 5\n",
        "  # Random Matrix\n",
        "  A = np.round(10*np.random.rand(H,W),0)\n",
        "  # Laplacian Filter\n",
        "  B = np.mat([[0,-1,0],[-1,4,-1],[0,-1,0]])\n",
        "else:\n",
        "  # Load from .mat file\n",
        "  mat_dict = loadmat('ex_conv2data.mat')\n",
        "  A = mat_dict['A']\n",
        "  B = mat_dict['B']\n",
        "\n",
        "  \n",
        "\n",
        "\n",
        "print(\"A = \\n\" +str(A))\n",
        "print(\"B = \\n\" + str(B))\n",
        "\n",
        "# Now perform 2D convolution\n",
        "C0 = convolve2d(A,B)\n",
        "C = C0[P:-P,P:-P]\n",
        "\n",
        "print(\"C = \\n\" + str(C))"
      ],
      "execution_count": 21,
      "outputs": [
        {
          "output_type": "stream",
          "text": [
            "A = \n",
            "[[3. 8. 0. 7. 0.]\n",
            " [4. 5. 0. 2. 1.]\n",
            " [9. 0. 5. 3. 3.]\n",
            " [4. 6. 3. 0. 9.]]\n",
            "B = \n",
            "[[ 0 -1  0]\n",
            " [-1  4 -1]\n",
            " [ 0 -1  0]]\n",
            "C = \n",
            "[[  0.  24. -15.  26.  -8.]\n",
            " [ -1.   8. -12.  -3.  -1.]\n",
            " [ 28. -25.  14.   2.  -1.]\n",
            " [  1.  17.   1. -15.  33.]]\n"
          ],
          "name": "stdout"
        }
      ]
    }
  ]
}